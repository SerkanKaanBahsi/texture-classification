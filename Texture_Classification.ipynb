{
  "nbformat": 4,
  "nbformat_minor": 0,
  "metadata": {
    "colab": {
      "name": "Copy of Kernel_visualize.ipynb",
      "provenance": [],
      "collapsed_sections": []
    },
    "kernelspec": {
      "name": "python3",
      "display_name": "Python 3"
    }
  },
  "cells": [
    {
      "cell_type": "code",
      "metadata": {
        "id": "Jvi5s2vCt-rg",
        "colab_type": "code",
        "colab": {}
      },
      "source": [
        "from google.colab import drive\n",
        "drive.mount('/content/drive')"
      ],
      "execution_count": null,
      "outputs": []
    },
    {
      "cell_type": "code",
      "metadata": {
        "id": "FbTCgYJrWare",
        "colab_type": "code",
        "colab": {}
      },
      "source": [
        "import tensorflow as tf\n",
        "from tensorflow.keras.models import Sequential\n",
        "from tensorflow.keras.layers import Dense, Activation, Flatten, Conv2D, MaxPooling2D, Dropout\n",
        "import numpy as np\n",
        "import matplotlib.pyplot as plt\n",
        "from random import randint"
      ],
      "execution_count": null,
      "outputs": []
    },
    {
      "cell_type": "code",
      "metadata": {
        "id": "fNqpsxbkYOmF",
        "colab_type": "code",
        "colab": {}
      },
      "source": [
        "image_count = 500"
      ],
      "execution_count": null,
      "outputs": []
    },
    {
      "cell_type": "code",
      "metadata": {
        "id": "stko-ITkWmvi",
        "colab_type": "code",
        "colab": {}
      },
      "source": [
        "labels = np.empty(image_count *2)\n",
        "labels[:image_count] = 0\n",
        "labels[image_count:] = 1"
      ],
      "execution_count": null,
      "outputs": []
    },
    {
      "cell_type": "code",
      "metadata": {
        "id": "dabE1DPectuV",
        "colab_type": "code",
        "colab": {}
      },
      "source": [
        "my_images = []\n",
        "for i in range(image_count):\n",
        "  ims = plt.imread('KalamitesTextures{}.png'.format(i+1))\n",
        "  my_resized.append(np.expand_dims(ims[:,:,0], axis=-1))\n",
        "\n",
        "\n",
        "for i in range(image_count2):\n",
        "  ims = plt.imread('LakamitesTextures{}.png'.format(i+1))\n",
        "  my_resized.append(np.expand_dims(ims[:,:,0], axis=-1))"
      ],
      "execution_count": null,
      "outputs": []
    },
    {
      "cell_type": "code",
      "metadata": {
        "id": "CuI-GPc2ogvV",
        "colab_type": "code",
        "colab": {}
      },
      "source": [
        "from sklearn.model_selection import train_test_split\n",
        "train_images, test_images, train_labels, test_labels = train_test_split(np.array(my_images), labels, test_size = 0.2, random_state = 0)"
      ],
      "execution_count": null,
      "outputs": []
    },
    {
      "cell_type": "code",
      "metadata": {
        "id": "KF8h7s4DvBkD",
        "colab_type": "code",
        "colab": {}
      },
      "source": [
        "values = []\n",
        "val_values = []\n",
        "n_kern = 12"
      ],
      "execution_count": null,
      "outputs": []
    },
    {
      "cell_type": "code",
      "metadata": {
        "colab_type": "code",
        "id": "cI1yzo3F-6de",
        "colab": {}
      },
      "source": [
        "for j in range(5):\n",
        "  predictions = []\n",
        "  score_list = []\n",
        "  for i in [2, 3, 4, 5, 6]:\n",
        "      \n",
        "\n",
        "      kernel_size = (i, i)\n",
        "      print(\"\\n\\nThe iteration launches for the kernel size : \", kernel_size, \"number of the kernels : \", n_kern)\n",
        "\n",
        "      model = Sequential()\n",
        "\n",
        "      #First Layer\n",
        "      model.add(Conv2D(n_kern, kernel_size, activation='relu',padding=\"valid\", kernel_initializer=\"random_uniform\",input_shape=(180,180,1)))\n",
        "      model.add(MaxPooling2D(pool_size = (2,2)))\n",
        "    \n",
        "      #Third Layer\n",
        "      model.add(Flatten())\n",
        "      model.add(Dense(units = 128,activation= 'relu'))\n",
        "      model.add(Dropout(0.5))\n",
        "        \n",
        "      #Output Layer\n",
        "      model.add(Dense(1))\n",
        "      model.add(Activation(\"sigmoid\"))\n",
        "        \n",
        "      model.compile(loss = \"binary_crossentropy\", optimizer=Adam(lr=0.0002, beta_1=0.5), metrics=[\"accuracy\"])\n",
        "      history = model.fit(train_images_resized, train_labels_resized, batch_size=1, epochs=8,validation_data=(test_images_resized,test_labels_resized))\n",
        "    \n",
        "      values.append(history.history[\"accuracy\"])\n",
        "      val_values.append(history.history[\"val_accuracy\"])"
      ],
      "execution_count": null,
      "outputs": []
    },
    {
      "cell_type": "code",
      "metadata": {
        "colab_type": "code",
        "id": "IA-hsK1H_KaR",
        "colab": {}
      },
      "source": [
        "accuracy = np.array(values)\n",
        "plot = []\n",
        "for j in range(5):\n",
        "  ploted = 0\n",
        "  for i in range(5):\n",
        "    ploted += accuracy[j+((i)*5)]\n",
        "  plot.append(ploted/5)"
      ],
      "execution_count": null,
      "outputs": []
    },
    {
      "cell_type": "code",
      "metadata": {
        "colab_type": "code",
        "id": "u4amC6FI_LwJ",
        "colab": {
          "base_uri": "https://localhost:8080/",
          "height": 295
        },
        "outputId": "a88d2d6a-3352-4535-8a30-2a5f63f53316"
      },
      "source": [
        "plt.plot(plot[0])\n",
        "plt.plot(plot[1])\n",
        "plt.plot(plot[2])\n",
        "plt.plot(plot[3])\n",
        "plt.plot(plot[4])\n",
        "\n",
        "plt.title('model accuracy')\n",
        "plt.ylabel('accuracy')\n",
        "plt.xlabel('epoch')\n",
        "\n",
        "plt.legend(['2', '3','4','5','6'], loc='upper left')\n",
        "plt.savefig(\"accuracy.png\")"
      ],
      "execution_count": null,
      "outputs": [
        {
          "output_type": "display_data",
          "data": {
            "image/png": "[encoded data removed]",
            "text/plain": [
              "<Figure size 432x288 with 1 Axes>"
            ]
          },
          "metadata": {
            "tags": [],
            "needs_background": "light"
          }
        }
      ]
    },
    {
      "cell_type": "code",
      "metadata": {
        "colab_type": "code",
        "id": "Dxyvy-OiAne3",
        "colab": {}
      },
      "source": [
        "val_accuracy = np.array(val_values)\n",
        "plot = []\n",
        "for j in range(5):\n",
        "  ploted = 0\n",
        "  for i in range(5):\n",
        "    ploted += val_accuracy[j+((i)*5)]\n",
        "  plot.append(ploted/5)"
      ],
      "execution_count": null,
      "outputs": []
    },
    {
      "cell_type": "code",
      "metadata": {
        "colab_type": "code",
        "id": "yB-SbjqlAor0",
        "colab": {
          "base_uri": "https://localhost:8080/",
          "height": 295
        },
        "outputId": "97fbba69-7480-4c03-b319-6cd64249684a"
      },
      "source": [
        "plt.plot(plot[0])\n",
        "plt.plot(plot[1])\n",
        "plt.plot(plot[2])\n",
        "plt.plot(plot[3])\n",
        "plt.plot(plot[4])\n",
        "\n",
        "plt.title('model accuracy')\n",
        "plt.ylabel('Val_accuracy')\n",
        "plt.xlabel('epoch')\n",
        "\n",
        "plt.legend(['2', '3','4','5','6'], loc='upper left')\n",
        "plt.savefig(\"val.png\")"
      ],
      "execution_count": null,
      "outputs": [
        {
          "output_type": "display_data",
          "data": {
            "image/png": "[encoded data removed]",
            "text/plain": [
              "<Figure size 432x288 with 1 Axes>"
            ]
          },
          "metadata": {
            "tags": [],
            "needs_background": "light"
          }
        }
      ]
    },
    {
      "cell_type": "markdown",
      "metadata": {
        "id": "YbanE8RNDMBT",
        "colab_type": "text"
      },
      "source": [
        "**KERNEL VISUALIZATION**"
      ]
    },
    {
      "cell_type": "code",
      "metadata": {
        "id": "DZO5C2CIv9wx",
        "colab_type": "code",
        "colab": {}
      },
      "source": [
        "from keras.models import Model\n",
        "from matplotlib import pyplot\n",
        "from numpy import expand_dims"
      ],
      "execution_count": null,
      "outputs": []
    },
    {
      "cell_type": "code",
      "metadata": {
        "id": "7f5fsvYuamLT",
        "colab_type": "code",
        "colab": {}
      },
      "source": [
        "filters, biases= model.layers[0].get_weights()"
      ],
      "execution_count": null,
      "outputs": []
    },
    {
      "cell_type": "code",
      "metadata": {
        "id": "50RQTx5YbEQX",
        "colab_type": "code",
        "colab": {}
      },
      "source": [
        "f_min, f_max = filters.min(), filters.max()\n",
        "filters = (filters - f_min) / (f_max - f_min)"
      ],
      "execution_count": null,
      "outputs": []
    },
    {
      "cell_type": "code",
      "metadata": {
        "id": "QCAsP6bibHPm",
        "colab_type": "code",
        "colab": {
          "base_uri": "https://localhost:8080/",
          "height": 119
        },
        "outputId": "c0d915de-ecc1-45f0-f27c-79b28b43c1e2"
      },
      "source": [
        "# plot first few filters\n",
        "n_filters, ix = 12, 1\n",
        "for i in range(n_filters):\n",
        "\t# get the filter\n",
        "\tf = filters[:, :, :, i]\n",
        "\t# plot each channel separately\n",
        "\tfor j in range(1):\n",
        "\t\t# specify subplot and turn of axis\n",
        "\t\tax = pyplot.subplot(n_filters, 3, ix)\n",
        "\t\tax.set_xticks([])\n",
        "\t\tax.set_yticks([])\n",
        "\t\t# plot filter channel in grayscale\n",
        "\t\tpyplot.imshow(f[:, :, j],cmap=\"binary\")\n",
        "\t\tix += 1\n",
        "# show the figure\n",
        "#pyplot.savefig(\"five_size_two.png\")\n",
        "pyplot.show()"
      ],
      "execution_count": null,
      "outputs": [
        {
          "output_type": "display_data",
          "data": {
            "image/png": "[encoded data removed]",
            "text/plain": [
              "<Figure size 432x288 with 10 Axes>"
            ]
          },
          "metadata": {
            "tags": []
          }
        }
      ]
    }
  ]
}