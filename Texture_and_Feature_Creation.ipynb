{
 "cells": [
  {
   "cell_type": "code",
   "execution_count": 1,
   "metadata": {},
   "outputs": [],
   "source": [
    "import numpy as np\n",
    "import random\n",
    "from PIL import Image"
   ]
  },
  {
   "cell_type": "code",
   "execution_count": 2,
   "metadata": {},
   "outputs": [],
   "source": [
    "def generate_a_feature():\n",
    "    \"\"\" Features are 6x6 images made with black and white pixels\n",
    "    each feature has 18 black and 18 white pixels\"\"\"    \n",
    "    whites = np.ones(18)\n",
    "    blacks = np.zeros(18)\n",
    "    feature = np.concatenate((whites, blacks))\n",
    "    np.random.shuffle(feature)\n",
    "    feature = feature.reshape(6, 6)\n",
    "    feature = feature * 255\n",
    "    PIL_image = Image.fromarray(feature.astype('uint8'), \"L\")\n",
    "    return PIL_image"
   ]
  },
  {
   "cell_type": "code",
   "execution_count": 3,
   "metadata": {},
   "outputs": [],
   "source": [
    "def generate_features(num_features=12):\n",
    "    feature_vec = []\n",
    "    feature_vec.append(generate_a_feature())\n",
    "\n",
    "    while len(feature_vec) < num_features:\n",
    "        feature = generate_a_feature()\n",
    "        count = 0\n",
    "        for f in feature_vec:\n",
    "            if (np.array(feature) == np.array(f)).all():\n",
    "                print(\"yes\")\n",
    "                count += 1\n",
    "        if count == 0:\n",
    "            feature_vec.append(feature)\n",
    "    return feature_vec"
   ]
  },
  {
   "cell_type": "code",
   "execution_count": 4,
   "metadata": {},
   "outputs": [],
   "source": [
    "def is_it(texture_to_check, textures_list):\n",
    "    for i in range(len(textures_list)):\n",
    "        if (np.array(texture_to_check) == np.array(textures_list[i])).all():\n",
    "            print(\"yes\")\n",
    "            return True\n",
    "    return False"
   ]
  },
  {
   "cell_type": "code",
   "execution_count": 6,
   "metadata": {},
   "outputs": [],
   "source": [
    "def get_concat_h_repeat(features_list, all_list):\n",
    "    size = 30\n",
    "    dst = Image.new('RGB', (size*6, 6))\n",
    "    rows_list = []\n",
    "    features_counter = [150, 150, 150, 150, 150, 150, 20]\n",
    "    for _ in range(size):\n",
    "        for x in range(size):\n",
    "            ind = random.randint(0, 5)\n",
    "            while features_counter[ind] == 0:\n",
    "                ind = random.randint(0, 5)\n",
    "            if ind == 6:\n",
    "                feature = generate_a_feature()\n",
    "                while is_it(feature, all_list):\n",
    "                    feature = generate_a_feature()\n",
    "                dst.paste(feature, (x*6, 0))\n",
    "                features_counter[ind] -= 1\n",
    "            else:\n",
    "                dst.paste(features_list[ind], (x*6, 0))\n",
    "                features_counter[ind] -= 1\n",
    "        rows_list.append(dst)\n",
    "        dst = Image.new('RGB', (size*6, 6))\n",
    "    random.shuffle(rows_list)\n",
    "    return rows_list"
   ]
  },
  {
   "cell_type": "code",
   "execution_count": 7,
   "metadata": {},
   "outputs": [],
   "source": [
    "def get_concat_v_repeat(rows_list):\n",
    "    size2 = 30\n",
    "    dst2 = Image.new('RGB', (size2*6, size2*6))\n",
    "\n",
    "    for y in range(size2):\n",
    "        dst2.paste(rows_list[y], (0, y * 6))\n",
    "\n",
    "    return dst2"
   ]
  },
  {
   "cell_type": "code",
   "execution_count": 8,
   "metadata": {},
   "outputs": [],
   "source": [
    "def get_concat_tile_repeat(features_list, all_list):\n",
    "    dst_h = get_concat_h_repeat(features_list, all_list)\n",
    "    return get_concat_v_repeat(dst_h)"
   ]
  },
  {
   "cell_type": "code",
   "execution_count": 9,
   "metadata": {},
   "outputs": [],
   "source": [
    "def generate_textures(features_list, number_of_textures, all_list):\n",
    "    textures_list = []\n",
    "    i = 0\n",
    "    while i != number_of_textures:\n",
    "        single_texture = get_concat_tile_repeat(features_list, all_list)\n",
    "        if is_it(single_texture, textures_list):\n",
    "            print(\"yes\")\n",
    "        else:\n",
    "            textures_list.append(single_texture)\n",
    "            i += 1\n",
    "    return textures_list"
   ]
  },
  {
   "cell_type": "code",
   "execution_count": 10,
   "metadata": {},
   "outputs": [],
   "source": [
    "features_list = generate_features(12)"
   ]
  },
  {
   "cell_type": "code",
   "execution_count": 14,
   "metadata": {},
   "outputs": [
    {
     "data": {
      "text/plain": [
       "<matplotlib.image.AxesImage at 0x1983f800c88>"
      ]
     },
     "execution_count": 14,
     "metadata": {},
     "output_type": "execute_result"
    },
    {
     "data": {
      "image/png": "[encoded data removed]",
      "text/plain": [
       "<Figure size 432x288 with 1 Axes>"
      ]
     },
     "metadata": {
      "needs_background": "light"
     },
     "output_type": "display_data"
    }
   ],
   "source": [
    "import matplotlib.pyplot as plt\n",
    "plt.imshow(features_list[1], cmap = \"gray\")"
   ]
  },
  {
   "cell_type": "code",
   "execution_count": 11,
   "metadata": {},
   "outputs": [],
   "source": [
    "textures_kalamites = generate_textures(features_list[:6], 500, features_list)"
   ]
  },
  {
   "cell_type": "code",
   "execution_count": 16,
   "metadata": {},
   "outputs": [],
   "source": [
    "textures_lakamites = generate_textures(features_list[6:], 500, features_list)"
   ]
  },
  {
   "cell_type": "code",
   "execution_count": 17,
   "metadata": {},
   "outputs": [
    {
     "data": {
      "text/plain": [
       "<matplotlib.image.AxesImage at 0x198454f2148>"
      ]
     },
     "execution_count": 17,
     "metadata": {},
     "output_type": "execute_result"
    },
    {
     "data": {
      "image/png": "[encoded data removed]",
      "text/plain": [
       "<Figure size 432x288 with 1 Axes>"
      ]
     },
     "metadata": {
      "needs_background": "light"
     },
     "output_type": "display_data"
    }
   ],
   "source": [
    "plt.imshow(textures_kalamites[0])"
   ]
  },
  {
   "cell_type": "code",
   "execution_count": null,
   "metadata": {},
   "outputs": [],
   "source": [
    "# Save kalamites textures\n",
    "for i in range(len(textures_kalamites)):\n",
    "    textures_kalamites[i].save(\"KalamitesTextures{}.png\".format(i+1))"
   ]
  },
  {
   "cell_type": "code",
   "execution_count": null,
   "metadata": {},
   "outputs": [],
   "source": [
    "# Save lakamites features\n",
    "for i in range(len(textures_lakamites)):\n",
    "    textures_lakamites[i].save(\"LakamitesTextures{}.png\".format(i+1))"
   ]
  },
  {
   "cell_type": "code",
   "execution_count": null,
   "metadata": {},
   "outputs": [],
   "source": [
    "# Save features\n",
    "for i in range(len(features_list)//2):\n",
    "    features_list[i].save(\"Kalamites{}.png\".format(i+1))\n",
    "\n",
    "for i in range(len(features_list)//2, len(features_list)):\n",
    "    features_list[i].save(\"Lakamites{}.png\".format(i+1))"
   ]
  }
 ],
 "metadata": {
  "kernelspec": {
   "display_name": "Python 3",
   "language": "python",
   "name": "python3"
  },
  "language_info": {
   "codemirror_mode": {
    "name": "ipython",
    "version": 3
   },
   "file_extension": ".py",
   "mimetype": "text/x-python",
   "name": "python",
   "nbconvert_exporter": "python",
   "pygments_lexer": "ipython3",
   "version": "3.7.6"
  }
 },
 "nbformat": 4,
 "nbformat_minor": 4
}
